{
  "nbformat": 4,
  "nbformat_minor": 0,
  "metadata": {
    "colab": {
      "name": "inbalanceDataTest",
      "version": "0.3.2",
      "provenance": [],
      "include_colab_link": true
    },
    "kernelspec": {
      "name": "python3",
      "display_name": "Python 3"
    }
  },
  "cells": [
    {
      "cell_type": "markdown",
      "metadata": {
        "id": "view-in-github",
        "colab_type": "text"
      },
      "source": [
        "<a href=\"https://colab.research.google.com/github/Klauszhao/GameCode/blob/master/inbalanceDataTest.ipynb\" target=\"_parent\"><img src=\"https://colab.research.google.com/assets/colab-badge.svg\" alt=\"Open In Colab\"/></a>"
      ]
    },
    {
      "cell_type": "code",
      "metadata": {
        "id": "FHJmJDYskg2F",
        "colab_type": "code",
        "colab": {
          "base_uri": "https://localhost:8080/",
          "height": 73
        },
        "outputId": "b3973550-a8e8-4a21-d526-7ad7c29da55a"
      },
      "source": [
        "from collections import Counter\n",
        "from sklearn.datasets import make_classification\n",
        "from sklearn.metrics import f1_score\n",
        "from sklearn.ensemble import RandomForestClassifier\n",
        "from sklearn import datasets\n",
        "import pandas as pd\n",
        "import numpy as np\n",
        "from imblearn.over_sampling import SMOTE\n",
        "\n",
        "import warnings\n",
        "warnings.filterwarnings('ignore')"
      ],
      "execution_count": 1,
      "outputs": [
        {
          "output_type": "stream",
          "text": [
            "/usr/local/lib/python3.6/dist-packages/sklearn/externals/six.py:31: DeprecationWarning: The module is deprecated in version 0.21 and will be removed in version 0.23 since we've dropped support for Python 2.7. Please rely on the official version of six (https://pypi.org/project/six/).\n",
            "  \"(https://pypi.org/project/six/).\", DeprecationWarning)\n"
          ],
          "name": "stderr"
        }
      ]
    },
    {
      "cell_type": "code",
      "metadata": {
        "id": "nlWUEh0EwwOr",
        "colab_type": "code",
        "colab": {
          "base_uri": "https://localhost:8080/",
          "height": 145
        },
        "outputId": "e469d5f1-293b-423c-b47a-d61e249ff2af"
      },
      "source": [
        "# 连接 Google colab 的云盘，数据集存放在云盘中，如果你的数据集不在云盘中，这段代码可以注释掉，从自己本地读取数据集\n",
        "from google.colab import drive\n",
        "drive.mount('/content/gdrive')\n",
        "!ls 'gdrive/My Drive/Data/creditCard'"
      ],
      "execution_count": 2,
      "outputs": [
        {
          "output_type": "stream",
          "text": [
            "Go to this URL in a browser: https://accounts.google.com/o/oauth2/auth?client_id=947318989803-6bn6qk8qdgf4n4g3pfee6491hc0brc4i.apps.googleusercontent.com&redirect_uri=urn%3Aietf%3Awg%3Aoauth%3A2.0%3Aoob&scope=email%20https%3A%2F%2Fwww.googleapis.com%2Fauth%2Fdocs.test%20https%3A%2F%2Fwww.googleapis.com%2Fauth%2Fdrive%20https%3A%2F%2Fwww.googleapis.com%2Fauth%2Fdrive.photos.readonly%20https%3A%2F%2Fwww.googleapis.com%2Fauth%2Fpeopleapi.readonly&response_type=code\n",
            "\n",
            "Enter your authorization code:\n",
            "··········\n",
            "Mounted at /content/gdrive\n",
            "creditcard.csv\n"
          ],
          "name": "stdout"
        }
      ]
    },
    {
      "cell_type": "code",
      "metadata": {
        "id": "yqJCosX_klk0",
        "colab_type": "code",
        "colab": {}
      },
      "source": [
        "def RandomForestTest(x_train,y_train,x_test,y_test):  # \n",
        "    RF = RandomForestClassifier(n_jobs=3)\n",
        "    # 训练样本\n",
        "    RF.fit(x_train, y_train)\n",
        "\n",
        "    y_pred_train = RF.predict(x_train)\n",
        "    f1 = f1_score(y_train,y_pred_train)\n",
        "    print(\"train F1 : {:.3f}\".format(f1))\n",
        "    \n",
        "    if not( x_test is None) :\n",
        "        y_pred_test = RF.predict(x_test)\n",
        "        f1 = f1_score(y_test,y_pred_test)\n",
        "        print(\"test F1 : {:.3f}\".format(f1))\n",
        "    \n",
        "    \n",
        "#     y_pred_test = RF.predict(x_test)\n",
        "#     f1 = f1_score(x_test,y_pred_test)\n",
        "#     print(\"test F1 : {:.3f}\".format(f1))"
      ],
      "execution_count": 0,
      "outputs": []
    },
    {
      "cell_type": "code",
      "metadata": {
        "id": "BPFgisgfv4tV",
        "colab_type": "code",
        "colab": {}
      },
      "source": [
        "dataFile=\"gdrive/My Drive/Data/creditCard/creditcard.csv\"\n",
        "data = pd.read_csv(dataFile , encoding='utf-8')"
      ],
      "execution_count": 0,
      "outputs": []
    },
    {
      "cell_type": "code",
      "metadata": {
        "id": "vNaxSnmdv42m",
        "colab_type": "code",
        "colab": {
          "base_uri": "https://localhost:8080/",
          "height": 89
        },
        "outputId": "f31345c6-0172-4204-e562-202c5819dbed"
      },
      "source": [
        "print(\"行数={},列数={}\".format(data.shape[0],data.shape[1]))\n",
        "print(data['Class'].value_counts())"
      ],
      "execution_count": 5,
      "outputs": [
        {
          "output_type": "stream",
          "text": [
            "行数=284807,列数=31\n",
            "0    284315\n",
            "1       492\n",
            "Name: Class, dtype: int64\n"
          ],
          "name": "stdout"
        }
      ]
    },
    {
      "cell_type": "markdown",
      "metadata": {
        "id": "_s-CZmxd5o59",
        "colab_type": "text"
      },
      "source": [
        "### 原始数据\n",
        "用原始数据训练模型，并将训练集作为测试集，看下效果。"
      ]
    },
    {
      "cell_type": "code",
      "metadata": {
        "id": "W4jPuldpwAkZ",
        "colab_type": "code",
        "colab": {
          "base_uri": "https://localhost:8080/",
          "height": 35
        },
        "outputId": "bb77722e-f0cd-442e-f690-e7a96bbe2480"
      },
      "source": [
        "x = data.drop('Class', axis=1)\n",
        "y = data['Class']\n",
        "\n",
        "RandomForestTest(x,y,None,None)\n"
      ],
      "execution_count": 6,
      "outputs": [
        {
          "output_type": "stream",
          "text": [
            "train F1 : 0.978\n"
          ],
          "name": "stdout"
        }
      ]
    },
    {
      "cell_type": "markdown",
      "metadata": {
        "id": "6_mcp_0O3tmI",
        "colab_type": "text"
      },
      "source": [
        "### 下采样\n",
        "针对样本数据多的类别，采取下采样的方法，数据量对齐样本数据少的类别数据，这两个样本用来训练模型，并预测全部数据集，虽然不合理，但是可以了解下采样的效果"
      ]
    },
    {
      "cell_type": "code",
      "metadata": {
        "id": "f7VVtbR73qDQ",
        "colab_type": "code",
        "colab": {
          "base_uri": "https://localhost:8080/",
          "height": 89
        },
        "outputId": "35d074e7-5702-46d3-8c55-0826c4eaedad"
      },
      "source": [
        "def dataProcess(data):\n",
        "    # Shuffle the Dataset.\n",
        "    shuffled_df = data.sample(frac=1,random_state=4)\n",
        "\n",
        "    # Put all the fraud class in a separate dataset.\n",
        "    fraud_df = shuffled_df.loc[shuffled_df['Class'] == 1]\n",
        "\n",
        "    #Randomly select 492 observations from the non-fraud (majority class)\n",
        "    non_fraud_df=shuffled_df.loc[shuffled_df['Class']== 0].sample(n=492,random_state=42)\n",
        "\n",
        "    # Concatenate both dataframes again\n",
        "    normalized_df = pd.concat([fraud_df, non_fraud_df])\n",
        "    print(normalized_df.shape)\n",
        "    return normalized_df\n",
        "\n",
        "\n",
        "under_sampling_data = dataProcess(data)\n",
        "print(\"下采样数据类型：{}\".format(under_sampling_data.shape))\n",
        "\n",
        "\n",
        "\n",
        "x_nor = under_sampling_data.drop('Class', axis=1)\n",
        "y_nor = under_sampling_data['Class']\n",
        "RandomForestTest(x_nor,y_nor,x,y)\n"
      ],
      "execution_count": 8,
      "outputs": [
        {
          "output_type": "stream",
          "text": [
            "(984, 31)\n",
            "下采样数据类型：(984, 31)\n",
            "train F1 : 0.994\n",
            "test F1 : 0.120\n"
          ],
          "name": "stdout"
        }
      ]
    },
    {
      "cell_type": "code",
      "metadata": {
        "id": "JhZJFsXzzeNL",
        "colab_type": "code",
        "colab": {
          "base_uri": "https://localhost:8080/",
          "height": 89
        },
        "outputId": "7a2a3661-fe4e-4e71-c750-389ff203fd1e"
      },
      "source": [
        "print(\" - - - -  负采样后 - - - - \")\n",
        "\n",
        "sm = SMOTE(sampling_strategy='minority', random_state=7)\n",
        "\n",
        "oversampled_train_x,oversampled_train_y = sm.fit_sample(x,y)\n",
        "\n",
        "print(\"上采样之后的数据集大小=\",oversampled_train_x.shape)\n",
        "\n",
        "RandomForestTest(oversampled_train_x,oversampled_train_y,x,y)"
      ],
      "execution_count": 9,
      "outputs": [
        {
          "output_type": "stream",
          "text": [
            " - - - -  负采样后 - - - - \n",
            "上采样之后的数据集大小= (568630, 30)\n",
            "train F1 : 1.000\n",
            "test F1 : 0.997\n"
          ],
          "name": "stdout"
        }
      ]
    },
    {
      "cell_type": "markdown",
      "metadata": {
        "id": "NQYrDheD2zA6",
        "colab_type": "text"
      },
      "source": [
        "### 结论\n",
        "很明显，上采样之后样本扩大了一倍，(568630, 30)，效果提升非常明显，用上采样得到的数据训练模型之后对原始数据集进行预测，效果也是提升非常好的，如果采用下采样，训练模型会很好，但是对原始数据集的拟合效果非常差，不建议用下采样\n"
      ]
    }
  ]
}