{
  "nbformat": 4,
  "nbformat_minor": 0,
  "metadata": {
    "colab": {
      "name": "modelStacking",
      "version": "0.3.2",
      "provenance": [],
      "include_colab_link": true
    },
    "kernelspec": {
      "name": "python3",
      "display_name": "Python 3"
    }
  },
  "cells": [
    {
      "cell_type": "markdown",
      "metadata": {
        "id": "view-in-github",
        "colab_type": "text"
      },
      "source": [
        "<a href=\"https://colab.research.google.com/github/Klauszhao/GameCode/blob/master/modelStacking.ipynb\" target=\"_parent\"><img src=\"https://colab.research.google.com/assets/colab-badge.svg\" alt=\"Open In Colab\"/></a>"
      ]
    },
    {
      "cell_type": "markdown",
      "metadata": {
        "id": "6Si7Df4oUICQ",
        "colab_type": "text"
      },
      "source": [
        "### 模型融合方式任意，并结合Task5给出你的最优结果。\n",
        "\n",
        "时间：2天\n",
        "\n",
        "例如Stacking融合，用你目前评分最高的模型作为基准模型，和其他模型进行stacking融合，得到最终模型及评分结果。"
      ]
    },
    {
      "cell_type": "markdown",
      "metadata": {
        "id": "djzxkN2Udxnp",
        "colab_type": "text"
      },
      "source": [
        "### StackingCVClassifier\n",
        "\n",
        "[StackingCVClassifier](http://rasbt.github.io/mlxtend/user_guide/classifier/StackingCVClassifier/) 是一个交叉验证的集成框架，在一般应用当中，常常需要将数据集划分几份，即采用K折样本划分的方式。一般推荐StackingCVClassifier 而不使用StackingClassifier。\n",
        "\n",
        "### 模型融合采用 Stacking 方法\n",
        "\n",
        "- 1、依据 Task5 提取 XGBClassifier、LGBMClassifier、RFClassifier 作为基模型，采用 LogisticRegressionCV 作为次模型，\n",
        "- 2、根据Task5 网格搜索后得到的模型最优参数作为模型默认值来训练模型，然后通过stacking 方法融合"
      ]
    },
    {
      "cell_type": "code",
      "metadata": {
        "id": "cn6jdcreUKzl",
        "colab_type": "code",
        "colab": {}
      },
      "source": [
        "from mlxtend.classifier import StackingCVClassifier\n",
        "import pandas as pd\n",
        "import numpy as np\n",
        "import matplotlib.pyplot as plt\n",
        "from sklearn.linear_model import LogisticRegression\n",
        "from sklearn.ensemble import RandomForestClassifier\n",
        "import lightgbm as lgb\n",
        "from xgboost import XGBClassifier\n",
        "from sklearn.tree import DecisionTreeClassifier\n",
        "from sklearn.ensemble import GradientBoostingClassifier,RandomForestClassifier\n",
        "from sklearn.metrics import *\n",
        "from sklearn import metrics\n",
        "from sklearn.model_selection import cross_val_score,cross_val_predict\n",
        "from sklearn.model_selection import GridSearchCV\n",
        "from sklearn.model_selection import train_test_split\n",
        "from sklearn.preprocessing import minmax_scale\n",
        "\n",
        "\n",
        "import warnings\n",
        "warnings.filterwarnings('ignore')"
      ],
      "execution_count": 0,
      "outputs": []
    },
    {
      "cell_type": "code",
      "metadata": {
        "id": "RbIDxB1peWyo",
        "colab_type": "code",
        "outputId": "68f8f0e5-d39a-496f-ef84-bd77e9403517",
        "colab": {
          "base_uri": "https://localhost:8080/",
          "height": 53
        }
      },
      "source": [
        "# 连接 Google colab 的云盘，数据集存放在云盘中，如果你的数据集不在云盘中，这段代码可以注释掉，从自己本地读取数据集\n",
        "from google.colab import drive\n",
        "drive.mount('/content/gdrive')\n",
        "!ls 'gdrive/My Drive/Data'"
      ],
      "execution_count": 20,
      "outputs": [
        {
          "output_type": "stream",
          "text": [
            "Drive already mounted at /content/gdrive; to attempt to forcibly remount, call drive.mount(\"/content/gdrive\", force_remount=True).\n",
            "aspect-extract\tdataAnalyse  dataProcessByTwoTask.csv  zhaopin\n"
          ],
          "name": "stdout"
        }
      ]
    },
    {
      "cell_type": "code",
      "metadata": {
        "id": "G4oNLqWFelVf",
        "colab_type": "code",
        "outputId": "6f0a3428-7c4c-4ae5-ba14-b6a948631bd4",
        "colab": {
          "base_uri": "https://localhost:8080/",
          "height": 53
        }
      },
      "source": [
        "# 读取数据\n",
        "filePath = 'gdrive/My Drive/Data/dataProcessByTwoTask.csv'\n",
        "data = pd.read_csv(filePath,encoding='gbk')\n",
        "\n",
        "train_data, test_data = train_test_split(data, test_size=0.3, random_state=2018)\n",
        "print(\"train_data\",train_data.shape)\n",
        "print(\"test_data\",test_data.shape)\n",
        "\n",
        "y_train = train_data['status']\n",
        "x_train = train_data.drop(['status'],axis =1)\n",
        "\n",
        "y_test = test_data['status']\n",
        "x_test = test_data.drop(['status'],axis =1)\n",
        "\n",
        "### 归一化模型\n",
        "\n",
        "x_train_scale =minmax_scale(x_train)\n",
        "x_test_scale =minmax_scale(x_test)"
      ],
      "execution_count": 21,
      "outputs": [
        {
          "output_type": "stream",
          "text": [
            "train_data (3096, 70)\n",
            "test_data (1327, 70)\n"
          ],
          "name": "stdout"
        }
      ]
    },
    {
      "cell_type": "markdown",
      "metadata": {
        "id": "yjDCl-wtetq8",
        "colab_type": "text"
      },
      "source": [
        "### 1、根据最优参数训练模型\n",
        "XGBClassifier、RFClassifier 作为基模型，采用 LogisticRegressionCV"
      ]
    },
    {
      "cell_type": "code",
      "metadata": {
        "id": "1BNbFw29fu9q",
        "colab_type": "code",
        "outputId": "b9a399d0-6022-4e1a-b3ce-863ca31748ee",
        "colab": {
          "base_uri": "https://localhost:8080/",
          "height": 71
        }
      },
      "source": [
        "## LR\n",
        "\n",
        "LR = LogisticRegression(C=1)\n",
        "#LR.fit(x_train_scale,y_train)\n",
        "print(\" LR 训练结束\")\n",
        "\n",
        "# RF\n",
        "#rf=RandomForestClassifier(n_estimators=100,max_depth=7,min_samples_split=80,min_samples_leaf=10)\n",
        "\n",
        "RF = RandomForestClassifier(bootstrap=True, class_weight=None, criterion='gini',\n",
        "                       max_depth=7, max_features='auto', max_leaf_nodes=None,\n",
        "                       min_impurity_decrease=0.0, min_impurity_split=None,\n",
        "                       min_samples_leaf=1, min_samples_split=50,\n",
        "                       min_weight_fraction_leaf=0.0, n_estimators=100,\n",
        "                       n_jobs=None, oob_score=False, random_state=None,\n",
        "                       verbose=0, warm_start=False)\n",
        "\n",
        "#RF.fit(x_train_scale,y_train)\n",
        "print(\" RF 训练结束\")\n",
        "# XGBClassifier\n",
        "\n",
        "# XGB = XGBClassifier(learning_rate =0.1, n_estimators=180, max_depth=3, min_child_weight=3, \n",
        "#                     gamma=0.4, subsample=0.5, colsample_bytree=1, reg_alpha=1,random_state=2018, \n",
        "#                     objective= 'binary:logistic', nthread=2,scale_pos_weight=1, seed=27)\n",
        "\n",
        "\n",
        "XGB = XGBClassifier(base_score=0.5, booster='gbtree', colsample_bylevel=1,\n",
        "              colsample_bynode=1, colsample_bytree=1, gamma=0,\n",
        "              learning_rate=0.1, max_delta_step=0, max_depth=3,\n",
        "              min_child_weight=3, missing=None, n_estimators=100, n_jobs=1,\n",
        "              nthread=None, objective='binary:logistic', random_state=2018,\n",
        "              reg_alpha=0, reg_lambda=1, scale_pos_weight=1, seed=None,\n",
        "              silent=None, subsample=1, verbosity=1)\n",
        "XGB.fit(x_train_scale,y_train)\n",
        "print(\" XGB 训练结束\")"
      ],
      "execution_count": 22,
      "outputs": [
        {
          "output_type": "stream",
          "text": [
            " LR 训练结束\n",
            " RF 训练结束\n",
            " XGB 训练结束\n"
          ],
          "name": "stdout"
        }
      ]
    },
    {
      "cell_type": "code",
      "metadata": {
        "id": "ztyISQ1gi3t8",
        "colab_type": "code",
        "colab": {}
      },
      "source": [
        "stackingModel = StackingCVClassifier(classifiers=[XGB, RF],\n",
        "                                   use_probas=True, \n",
        "                                   meta_classifier=LR,\n",
        "                                   cv=5\n",
        "                                   )\n",
        "\n",
        "\n",
        "## 评价方法\n",
        "def Eva(clf, x_test, y_test):\n",
        "    y_predic = clf.predict(x_test)\n",
        "    y_proba = clf.predict_proba(x_test)\n",
        "\n",
        "    acc = metrics.accuracy_score(y_test, y_predic)\n",
        "    p = metrics.precision_score(y_test, y_predic)\n",
        "    r = metrics.recall_score(y_test, y_predic)\n",
        "    f1 = metrics.f1_score(y_test, y_predic)\n",
        "    fpr, tpr, thresholds = metrics.roc_curve(y_test, y_proba[:, 1])\n",
        "    auc = metrics.auc(fpr, tpr)\n",
        "    return acc, p, r, f1, fpr, tpr, auc\n",
        "  \n",
        "## 绘图函数\n",
        "\n",
        "def plot_roc(fprs, tprs, aucs, title):\n",
        "    plt.figure()\n",
        "    lw = 2\n",
        "    for i, name in enumerate(models):\n",
        "        plt.plot(fprs[i], tprs[i], lw=lw, label='{0} (AUC:{1:0.2f})'.format(name, aucs[i]))\n",
        "    plt.plot([0, 1], [0, 1], color='navy', lw=lw, linestyle='--')\n",
        "    plt.xlim([0.0, 1.0])\n",
        "    plt.ylim([0.0, 1.05])\n",
        "    plt.xlabel('False Positive Rate')\n",
        "    plt.ylabel('True Positive Rate')\n",
        "    plt.title('Receiver operating characteristic of '+title)\n",
        "    plt.legend(loc=\"lower right\")\n",
        "    plt.show()"
      ],
      "execution_count": 0,
      "outputs": []
    },
    {
      "cell_type": "code",
      "metadata": {
        "id": "AEmRsqxon8Bm",
        "colab_type": "code",
        "colab": {
          "base_uri": "https://localhost:8080/",
          "height": 35
        },
        "outputId": "8c47d479-0a9b-4406-8c86-4ee355e27a60"
      },
      "source": [
        "count = 0 \n",
        "for x in y_train:\n",
        "  if np.isnan(x) :\n",
        "    count = count +1\n",
        "print(count)"
      ],
      "execution_count": 32,
      "outputs": [
        {
          "output_type": "stream",
          "text": [
            "0\n"
          ],
          "name": "stdout"
        }
      ]
    },
    {
      "cell_type": "code",
      "metadata": {
        "id": "yl2jzPK9jOer",
        "colab_type": "code",
        "outputId": "3e53147f-cf75-4774-dc22-47ae6dbec22d",
        "colab": {
          "base_uri": "https://localhost:8080/",
          "height": 807
        }
      },
      "source": [
        "models = {'LR': LR,\n",
        "          'RF': RF,\n",
        "          'XGB': XGB}\n",
        "\n",
        "# ,\n",
        "#          'StackingModel': stackingModel  这个放到 models后，在下面的代码中 clf.fit(x_train_scale, y_train)  老报错，换一种方式来处理\n",
        "\n",
        "df_result_train = pd.DataFrame(columns=('Model', 'dataset', 'Accuracy', 'Precision', 'Recall', 'F1 score', 'AUC'))\n",
        "df_result_test = pd.DataFrame(columns=('Model', 'dataset', 'Accuracy', 'Precision', 'Recall', 'F1 score', 'AUC'))\n",
        "\n",
        "row = 0\n",
        "fprs_train = []\n",
        "tprs_train = []\n",
        "aucs_train = []\n",
        "fprs_test = []\n",
        "tprs_test = []\n",
        "aucs_test = []\n",
        "\n",
        "\n",
        "\n",
        "for name, clf in models.items():\n",
        "  print('name=',name)\n",
        "  clf.fit(x_train_scale, y_train)\n",
        "  acc, p, r, f1, fpr_train, tpr_train, auc_train = Eva(clf, x_train_scale, y_train)\n",
        "  fprs_train.append(fpr_train)\n",
        "  tprs_train.append(tpr_train)\n",
        "  aucs_train.append(auc_train)\n",
        "  df_result_train.loc[row] = [name, 'train', acc, p, r, f1, auc_train]\n",
        "  row += 1\n",
        "\n",
        "  acc, p, r, f1, fpr_test, tpr_test, auc_test = Eva(clf, x_test_scale, y_test)\n",
        "  fprs_test.append(fpr_test)\n",
        "  tprs_test.append(tpr_test)\n",
        "  aucs_test.append(auc_test)\n",
        "  df_result_test.loc[row] = [name, 'test', acc, p, r, f1, auc_test]\n",
        "  row += 1\n",
        "\n",
        "  \n",
        "scores = cross_val_score(clf, x_train_scale, y_train,cv=3, scoring='accuracy')\n",
        "\n",
        "df_result_train.loc[row] = [\"StackingModel\", 'train', scores.mean(), 0, 0, f1, 0]\n",
        "\n",
        "\n",
        "scores = cross_val_score(clf, x_test_scale, y_test,cv=3, scoring='accuracy')\n",
        "\n",
        "df_result_test.loc[row] = [\"StackingModel\", 'test', scores.mean(), 0, 0, f1, 0]\n",
        "\n",
        "# print(\"Accuracy: %0.2f (+/- %0.2f) [%s]\" \n",
        "#           % (scores.mean(), scores.std(), label))\n",
        "\n",
        "print(df_result_train)\n",
        "\n",
        "print(df_result_test)\n",
        "\n",
        "plot_roc(fprs_train, tprs_train, aucs_train, 'train')\n",
        "plot_roc(fprs_test, tprs_test, aucs_test, 'test')"
      ],
      "execution_count": 44,
      "outputs": [
        {
          "output_type": "stream",
          "text": [
            "name= LR\n",
            "name= RF\n",
            "name= XGB\n",
            "           Model dataset  Accuracy  Precision    Recall  F1 score       AUC\n",
            "0             LR   train  0.801357   0.738019  0.302356  0.428969  0.809379\n",
            "2             RF   train  0.824289   0.901460  0.323298  0.475915  0.898176\n",
            "4            XGB   train  0.853359   0.850679  0.492147  0.623549  0.916271\n",
            "6  StackingModel   train  0.802006   0.000000  0.000000  0.444846  0.000000\n",
            "           Model dataset  Accuracy  Precision    Recall  F1 score       AUC\n",
            "1             LR    test  0.785983   0.668394  0.369628  0.476015  0.773569\n",
            "3             RF    test  0.773173   0.690476  0.249284  0.366316  0.779378\n",
            "5            XGB    test  0.768651   0.602941  0.352436  0.444846  0.782417\n",
            "6  StackingModel    test  0.769398   0.000000  0.000000  0.444846  0.000000\n"
          ],
          "name": "stdout"
        },
        {
          "output_type": "display_data",
          "data": {
            "image/png": "[encoded data removed]",
            "text/plain": [
              "<Figure size 432x288 with 1 Axes>"
            ]
          },
          "metadata": {
            "tags": []
          }
        },
        {
          "output_type": "display_data",
          "data": {
            "image/png": "[encoded data removed]",
            "text/plain": [
              "<Figure size 432x288 with 1 Axes>"
            ]
          },
          "metadata": {
            "tags": []
          }
        }
      ]
    }
  ]
}