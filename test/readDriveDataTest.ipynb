{
  "nbformat": 4,
  "nbformat_minor": 0,
  "metadata": {
    "colab": {
      "name": "readDriveDataTest",
      "version": "0.3.2",
      "provenance": [],
      "toc_visible": true,
      "include_colab_link": true
    },
    "kernelspec": {
      "name": "python3",
      "display_name": "Python 3"
    }
  },
  "cells": [
    {
      "cell_type": "markdown",
      "metadata": {
        "id": "view-in-github",
        "colab_type": "text"
      },
      "source": [
        "<a href=\"https://colab.research.google.com/github/Klauszhao/GameCode/blob/master/test/readDriveDataTest.ipynb\" target=\"_parent\"><img src=\"https://colab.research.google.com/assets/colab-badge.svg\" alt=\"Open In Colab\"/></a>"
      ]
    },
    {
      "cell_type": "code",
      "metadata": {
        "id": "Drb5rOtAnTxA",
        "colab_type": "code",
        "outputId": "d1952fdc-368c-48a2-a202-b36bc97ac1bb",
        "colab": {
          "base_uri": "https://localhost:8080/",
          "height": 35
        }
      },
      "source": [
        "print('test')"
      ],
      "execution_count": 0,
      "outputs": [
        {
          "output_type": "stream",
          "text": [
            "test\n"
          ],
          "name": "stdout"
        }
      ]
    },
    {
      "cell_type": "code",
      "metadata": {
        "id": "wMn4QKOwsvJu",
        "colab_type": "code",
        "outputId": "628757cc-d273-4d06-e217-93eeeff31d32",
        "colab": {
          "base_uri": "https://localhost:8080/",
          "height": 127
        }
      },
      "source": [
        "# 这个没太懂是干嘛的\n",
        "from google.colab import drive\n",
        "drive.mount('/content/gdrive')\n"
      ],
      "execution_count": 0,
      "outputs": [
        {
          "output_type": "stream",
          "text": [
            "Go to this URL in a browser: https://accounts.google.com/o/oauth2/auth?client_id=947318989803-6bn6qk8qdgf4n4g3pfee6491hc0brc4i.apps.googleusercontent.com&redirect_uri=urn%3Aietf%3Awg%3Aoauth%3A2.0%3Aoob&scope=email%20https%3A%2F%2Fwww.googleapis.com%2Fauth%2Fdocs.test%20https%3A%2F%2Fwww.googleapis.com%2Fauth%2Fdrive%20https%3A%2F%2Fwww.googleapis.com%2Fauth%2Fdrive.photos.readonly%20https%3A%2F%2Fwww.googleapis.com%2Fauth%2Fpeopleapi.readonly&response_type=code\n",
            "\n",
            "Enter your authorization code:\n",
            "··········\n",
            "Mounted at /content/gdrive\n"
          ],
          "name": "stdout"
        }
      ]
    },
    {
      "cell_type": "code",
      "metadata": {
        "id": "rCefdC58tE6n",
        "colab_type": "code",
        "outputId": "79aa2d4f-19e0-4ca7-bf3a-c71337549688",
        "colab": {
          "base_uri": "https://localhost:8080/",
          "height": 35
        }
      },
      "source": [
        "from google.colab import drive\n",
        "drive.mount('/content/drive')"
      ],
      "execution_count": 0,
      "outputs": [
        {
          "output_type": "stream",
          "text": [
            "Mounted at /content/drive\n"
          ],
          "name": "stdout"
        }
      ]
    },
    {
      "cell_type": "code",
      "metadata": {
        "id": "bht5JlSKtHIL",
        "colab_type": "code",
        "outputId": "3921ff2c-bfea-45d0-b047-ac82d76ec0ad",
        "colab": {
          "base_uri": "https://localhost:8080/",
          "height": 53
        }
      },
      "source": [
        "!ls\n",
        "\n",
        "!ls 'drive/My Drive/Data'\n"
      ],
      "execution_count": 0,
      "outputs": [
        {
          "output_type": "stream",
          "text": [
            "drive  gdrive  sample_data\n",
            "dataProcessByTwoTask.csv\n"
          ],
          "name": "stdout"
        }
      ]
    },
    {
      "cell_type": "code",
      "metadata": {
        "id": "itIzLO38ooK6",
        "colab_type": "code",
        "outputId": "60e6ea73-2999-4375-e7a5-72b22609a823",
        "colab": {
          "base_uri": "https://localhost:8080/",
          "height": 131
        }
      },
      "source": [
        "import pandas as pd\n",
        "# 上传数据集\n",
        "\n",
        "#  drive/My Drive/Data 这个是 云端数据的路径\n",
        "\n",
        "filePath = 'drive/My Drive/Data/dataProcessByTwoTask.csv'\n",
        "data = pd.read_csv(filePath,encoding='gbk')\n",
        "\n",
        "data.head(2)\n"
      ],
      "execution_count": 0,
      "outputs": [
        {
          "output_type": "execute_result",
          "data": {
            "text/html": [
              "<div>\n",
              "<style scoped>\n",
              "    .dataframe tbody tr th:only-of-type {\n",
              "        vertical-align: middle;\n",
              "    }\n",
              "\n",
              "    .dataframe tbody tr th {\n",
              "        vertical-align: top;\n",
              "    }\n",
              "\n",
              "    .dataframe thead th {\n",
              "        text-align: right;\n",
              "    }\n",
              "</style>\n",
              "<table border=\"1\" class=\"dataframe\">\n",
              "  <thead>\n",
              "    <tr style=\"text-align: right;\">\n",
              "      <th></th>\n",
              "      <th>take_amount_in_later_12_month_highest</th>\n",
              "      <th>trans_amount_increase_rate_lately</th>\n",
              "      <th>transd_mcc</th>\n",
              "      <th>trans_days_interval_filter</th>\n",
              "      <th>trans_days_interval</th>\n",
              "      <th>repayment_capability</th>\n",
              "      <th>number_of_trans_from_2011</th>\n",
              "      <th>historical_trans_day</th>\n",
              "      <th>rank_trad_1_month</th>\n",
              "      <th>trans_amount_3_month</th>\n",
              "      <th>abs</th>\n",
              "      <th>top_trans_count_last_1_month</th>\n",
              "      <th>avg_price_last_12_month</th>\n",
              "      <th>avg_price_top_last_12_valid_month</th>\n",
              "      <th>trans_top_time_last_1_month</th>\n",
              "      <th>trans_top_time_last_6_month</th>\n",
              "      <th>consume_top_time_last_1_month</th>\n",
              "      <th>consume_top_time_last_6_month</th>\n",
              "      <th>cross_consume_count_last_1_month</th>\n",
              "      <th>trans_fail_top_count_enum_last_1_month</th>\n",
              "      <th>trans_fail_top_count_enum_last_6_month</th>\n",
              "      <th>trans_fail_top_count_enum_last_12_month</th>\n",
              "      <th>consume_mini_time_last_1_month</th>\n",
              "      <th>max_cumulative_consume_later_1_month</th>\n",
              "      <th>max_consume_count_later_6_month</th>\n",
              "      <th>pawns_auctions_trusts_consume_last_1_month</th>\n",
              "      <th>pawns_auctions_trusts_consume_last_6_month</th>\n",
              "      <th>status</th>\n",
              "      <th>first_transaction_day</th>\n",
              "      <th>trans_day_last_12_month</th>\n",
              "      <th>apply_score</th>\n",
              "      <th>apply_credibility</th>\n",
              "      <th>query_org_count</th>\n",
              "      <th>query_finance_count</th>\n",
              "      <th>query_cash_count</th>\n",
              "      <th>query_sum_count</th>\n",
              "      <th>latest_one_month_apply</th>\n",
              "      <th>latest_three_month_apply</th>\n",
              "      <th>latest_six_month_apply</th>\n",
              "      <th>loans_score</th>\n",
              "      <th>loans_credibility_behavior</th>\n",
              "      <th>loans_count</th>\n",
              "      <th>loans_settle_count</th>\n",
              "      <th>loans_overdue_count</th>\n",
              "      <th>loans_org_count_behavior</th>\n",
              "      <th>consfin_org_count_behavior</th>\n",
              "      <th>loans_cash_count</th>\n",
              "      <th>latest_one_month_loan</th>\n",
              "      <th>latest_three_month_loan</th>\n",
              "      <th>latest_six_month_loan</th>\n",
              "      <th>history_suc_fee</th>\n",
              "      <th>history_fail_fee</th>\n",
              "      <th>latest_one_month_suc</th>\n",
              "      <th>latest_one_month_fail</th>\n",
              "      <th>loans_long_time</th>\n",
              "      <th>loans_credit_limit</th>\n",
              "      <th>loans_credibility_limit</th>\n",
              "      <th>loans_org_count_current</th>\n",
              "      <th>loans_product_count</th>\n",
              "      <th>loans_max_limit</th>\n",
              "      <th>loans_avg_limit</th>\n",
              "      <th>consfin_credit_limit</th>\n",
              "      <th>consfin_credibility</th>\n",
              "      <th>consfin_org_count_current</th>\n",
              "      <th>consfin_product_count</th>\n",
              "      <th>consfin_max_limit</th>\n",
              "      <th>consfin_avg_limit</th>\n",
              "      <th>latest_query_day</th>\n",
              "      <th>loans_latest_day</th>\n",
              "      <th>first_transaction_time_day</th>\n",
              "    </tr>\n",
              "  </thead>\n",
              "  <tbody>\n",
              "    <tr>\n",
              "      <th>0</th>\n",
              "      <td>0</td>\n",
              "      <td>0.90</td>\n",
              "      <td>17.0</td>\n",
              "      <td>27.0</td>\n",
              "      <td>26.0</td>\n",
              "      <td>19890</td>\n",
              "      <td>30.0</td>\n",
              "      <td>151.0</td>\n",
              "      <td>0.40</td>\n",
              "      <td>34030</td>\n",
              "      <td>3920</td>\n",
              "      <td>0.15</td>\n",
              "      <td>1020</td>\n",
              "      <td>0.55</td>\n",
              "      <td>4.0</td>\n",
              "      <td>19.0</td>\n",
              "      <td>4.0</td>\n",
              "      <td>19.0</td>\n",
              "      <td>1.0</td>\n",
              "      <td>1.0</td>\n",
              "      <td>2.0</td>\n",
              "      <td>2.0</td>\n",
              "      <td>5.0</td>\n",
              "      <td>2170</td>\n",
              "      <td>6.0</td>\n",
              "      <td>1970</td>\n",
              "      <td>18040</td>\n",
              "      <td>1</td>\n",
              "      <td>1738.0</td>\n",
              "      <td>85.0</td>\n",
              "      <td>583.0</td>\n",
              "      <td>79.0</td>\n",
              "      <td>8.0</td>\n",
              "      <td>2.0</td>\n",
              "      <td>6.0</td>\n",
              "      <td>10.0</td>\n",
              "      <td>2.0</td>\n",
              "      <td>5.0</td>\n",
              "      <td>8.0</td>\n",
              "      <td>552.0</td>\n",
              "      <td>73.0</td>\n",
              "      <td>37.0</td>\n",
              "      <td>34.0</td>\n",
              "      <td>2.0</td>\n",
              "      <td>10.0</td>\n",
              "      <td>1.0</td>\n",
              "      <td>9.0</td>\n",
              "      <td>1.0</td>\n",
              "      <td>1.0</td>\n",
              "      <td>13.0</td>\n",
              "      <td>37.0</td>\n",
              "      <td>7.0</td>\n",
              "      <td>1.0</td>\n",
              "      <td>0.0</td>\n",
              "      <td>341.0</td>\n",
              "      <td>2200.0</td>\n",
              "      <td>72.0</td>\n",
              "      <td>9.0</td>\n",
              "      <td>10.0</td>\n",
              "      <td>2900.0</td>\n",
              "      <td>1688.0</td>\n",
              "      <td>1200.0</td>\n",
              "      <td>75.0</td>\n",
              "      <td>1.0</td>\n",
              "      <td>2.0</td>\n",
              "      <td>1200.0</td>\n",
              "      <td>1200.0</td>\n",
              "      <td>12.0</td>\n",
              "      <td>18.0</td>\n",
              "      <td>17</td>\n",
              "    </tr>\n",
              "    <tr>\n",
              "      <th>1</th>\n",
              "      <td>2000</td>\n",
              "      <td>1.28</td>\n",
              "      <td>19.0</td>\n",
              "      <td>30.0</td>\n",
              "      <td>14.0</td>\n",
              "      <td>16970</td>\n",
              "      <td>23.0</td>\n",
              "      <td>224.0</td>\n",
              "      <td>0.35</td>\n",
              "      <td>10590</td>\n",
              "      <td>6950</td>\n",
              "      <td>0.05</td>\n",
              "      <td>1210</td>\n",
              "      <td>0.50</td>\n",
              "      <td>13.0</td>\n",
              "      <td>30.0</td>\n",
              "      <td>13.0</td>\n",
              "      <td>30.0</td>\n",
              "      <td>0.0</td>\n",
              "      <td>0.0</td>\n",
              "      <td>3.0</td>\n",
              "      <td>3.0</td>\n",
              "      <td>330.0</td>\n",
              "      <td>2100</td>\n",
              "      <td>9.0</td>\n",
              "      <td>1820</td>\n",
              "      <td>15680</td>\n",
              "      <td>0</td>\n",
              "      <td>779.0</td>\n",
              "      <td>84.0</td>\n",
              "      <td>653.0</td>\n",
              "      <td>73.0</td>\n",
              "      <td>7.0</td>\n",
              "      <td>4.0</td>\n",
              "      <td>2.0</td>\n",
              "      <td>8.0</td>\n",
              "      <td>2.0</td>\n",
              "      <td>6.0</td>\n",
              "      <td>8.0</td>\n",
              "      <td>635.0</td>\n",
              "      <td>76.0</td>\n",
              "      <td>37.0</td>\n",
              "      <td>36.0</td>\n",
              "      <td>0.0</td>\n",
              "      <td>17.0</td>\n",
              "      <td>5.0</td>\n",
              "      <td>12.0</td>\n",
              "      <td>2.0</td>\n",
              "      <td>2.0</td>\n",
              "      <td>8.0</td>\n",
              "      <td>49.0</td>\n",
              "      <td>4.0</td>\n",
              "      <td>2.0</td>\n",
              "      <td>1.0</td>\n",
              "      <td>353.0</td>\n",
              "      <td>2000.0</td>\n",
              "      <td>74.0</td>\n",
              "      <td>12.0</td>\n",
              "      <td>12.0</td>\n",
              "      <td>3500.0</td>\n",
              "      <td>1758.0</td>\n",
              "      <td>15100.0</td>\n",
              "      <td>80.0</td>\n",
              "      <td>5.0</td>\n",
              "      <td>6.0</td>\n",
              "      <td>22800.0</td>\n",
              "      <td>9360.0</td>\n",
              "      <td>4.0</td>\n",
              "      <td>2.0</td>\n",
              "      <td>2</td>\n",
              "    </tr>\n",
              "  </tbody>\n",
              "</table>\n",
              "</div>"
            ],
            "text/plain": [
              "   take_amount_in_later_12_month_highest  ...  first_transaction_time_day\n",
              "0                                      0  ...                          17\n",
              "1                                   2000  ...                           2\n",
              "\n",
              "[2 rows x 70 columns]"
            ]
          },
          "metadata": {
            "tags": []
          },
          "execution_count": 20
        }
      ]
    }
  ]
}